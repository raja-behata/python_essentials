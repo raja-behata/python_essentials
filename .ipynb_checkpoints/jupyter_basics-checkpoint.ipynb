{
 "cells": [
  {
   "cell_type": "markdown",
   "id": "38a3e407-2681-44a9-a644-6dd259fe0e94",
   "metadata": {},
   "source": [
    "## Jupyter\n",
    "If you're going to write Python code, you need (a) a place to write/edit it and (b) a place to execute it. You can use a traditional editor or IDE (integrated development environment) to do all of this.\n",
    "\n",
    "A number of programmers set up Jupyter, which gives you the illusion of writing Python in your browser.\n",
    "\n",
    "If you want to set up Jupyter on your computer, you can!\n",
    "\n",
    "If you want to use an IDE, you can!\n",
    "\n",
    "BUT if you don't want to install anything, you can just use Jupyter Lite. In that case, both Jupyter and Python run INSIDE OF YOUR BROWSER.\n",
    "\n",
    "https://jupyter.org/try-jupyter/lab/\n",
    "\n"
   ]
  },
  {
   "cell_type": "markdown",
   "id": "77d85888-e47c-41c3-917b-ef64447c6a8c",
   "metadata": {},
   "source": [
    "### A quick Jupyter tutorial\n",
    "When you type into Jupyter, you're typing into a cell. Each cell can contain any amount of text. But when you type, you can actually be in one of two modes:\n",
    "\n",
    "Edit mode, which means that when you type, you see the text in the Jupyter cell. I'm currently in edit mode. To enter edit mode, click inside of the rectangle (the cell) or press ENTER.\n",
    "Command mode, in which anything you type is not displayed. Rather, it's taken as a command for Jupyter to follow. To enter command mode, click to the left of the cell or press ESC.\n",
    "What commands can we use?\n",
    "c -- copy the current cell\n",
    "x -- cut the current cell\n",
    "v -- paste the most recently copied/cut cell\n",
    "a -- create a new, blank cell above the current one\n",
    "b -- create a new, blank cell below the current one\n",
    "m -- set the cell to be for Markdown-formatted text, which is turned into HTML (that's what I'm using now)\n",
    "y -- set the cell to be for Python code\n",
    "When I'm done with a cell, I can press shift+ENTER. That will \"execute the cell:\n",
    "\n",
    "If it contains Python code, the code will run\n",
    "If it contains Markdown, the text will be formatted."
   ]
  }
 ],
 "metadata": {
  "kernelspec": {
   "display_name": "Python 3 (ipykernel)",
   "language": "python",
   "name": "python3"
  },
  "language_info": {
   "codemirror_mode": {
    "name": "ipython",
    "version": 3
   },
   "file_extension": ".py",
   "mimetype": "text/x-python",
   "name": "python",
   "nbconvert_exporter": "python",
   "pygments_lexer": "ipython3",
   "version": "3.11.11"
  }
 },
 "nbformat": 4,
 "nbformat_minor": 5
}
